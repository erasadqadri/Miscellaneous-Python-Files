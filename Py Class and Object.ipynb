{
 "cells": [
  {
   "cell_type": "markdown",
   "metadata": {},
   "source": [
    "# Python Class and Object:"
   ]
  },
  {
   "cell_type": "code",
   "execution_count": 8,
   "metadata": {},
   "outputs": [
    {
     "name": "stdout",
     "output_type": "stream",
     "text": [
      "<class '__main__.Computer'>\n"
     ]
    }
   ],
   "source": [
    "class Computer:\n",
    "    def config(self):#method of a class\n",
    "        print('i5','16gb','1tb')\n",
    "\n",
    "com1 = Computer()#com1 is an object of computer\n",
    "print(type(com1))"
   ]
  },
  {
   "cell_type": "code",
   "execution_count": 4,
   "metadata": {},
   "outputs": [
    {
     "name": "stdout",
     "output_type": "stream",
     "text": [
      "<class 'str'>\n",
      "<class 'int'>\n"
     ]
    }
   ],
   "source": [
    "# a = '4'\n",
    "# print(type(a))\n",
    "\n",
    "# b = 5\n",
    "# print(type(b))"
   ]
  },
  {
   "cell_type": "code",
   "execution_count": 11,
   "metadata": {},
   "outputs": [
    {
     "name": "stdout",
     "output_type": "stream",
     "text": [
      "i5 16gb 1tb\n"
     ]
    }
   ],
   "source": [
    "Computer.config(com1)#just to explain"
   ]
  },
  {
   "cell_type": "code",
   "execution_count": 13,
   "metadata": {},
   "outputs": [
    {
     "name": "stdout",
     "output_type": "stream",
     "text": [
      "i5 16gb 1tb\n"
     ]
    }
   ],
   "source": [
    "com1.config()"
   ]
  },
  {
   "cell_type": "markdown",
   "metadata": {},
   "source": [
    "# INIT"
   ]
  },
  {
   "cell_type": "code",
   "execution_count": 24,
   "metadata": {},
   "outputs": [
    {
     "name": "stdout",
     "output_type": "stream",
     "text": [
      "Config is i7 16\n",
      "1tb\n",
      "Config is Ryzen 3 8\n",
      "1tb\n"
     ]
    }
   ],
   "source": [
    "class Computer:\n",
    "    \n",
    "    def __init__(self, cpu, ram):#special method => init is Initialize Variable\n",
    "        self.cpu = cpu\n",
    "        self.ram = ram\n",
    "    \n",
    "    def config(self):#method of a class\n",
    "        print('Config is', self.cpu, self.ram)\n",
    "        print('1tb')\n",
    "\n",
    "com1 = Computer('i7',16)#com1 is an object of computer\n",
    "com2 = Computer('Ryzen 3', 8)\n",
    "\n",
    "com1.config()\n",
    "com2.config()"
   ]
  },
  {
   "cell_type": "markdown",
   "metadata": {},
   "source": [
    "# CONSTRUCTOR AND SELF:"
   ]
  },
  {
   "cell_type": "code",
   "execution_count": 38,
   "metadata": {},
   "outputs": [
    {
     "name": "stdout",
     "output_type": "stream",
     "text": [
      "Ayeshu\n",
      "<bound method Emp.update of <__main__.Emp object at 0x05418730>>\n",
      "Ayesh\n"
     ]
    }
   ],
   "source": [
    "class Emp:\n",
    "    \n",
    "    def __init__(self):\n",
    "        self.name = 'Ayeshu'\n",
    "        self.age = 2\n",
    "        \n",
    "    def update(self):\n",
    "        self.age = 3\n",
    "\n",
    "c1 = Emp()\n",
    "c2 = Emp()\n",
    "\n",
    "c2.name = 'Ayesh'\n",
    "\n",
    "print(c1.name)\n",
    "print(c1.update)\n",
    "\n",
    "print(c2.name)"
   ]
  },
  {
   "cell_type": "code",
   "execution_count": 33,
   "metadata": {},
   "outputs": [
    {
     "name": "stdout",
     "output_type": "stream",
     "text": [
      "108398360\n",
      "108397424\n"
     ]
    }
   ],
   "source": [
    "# print(id(com1)) #address of heap memory where com1 is stored\n",
    "# print(id(com2))"
   ]
  },
  {
   "cell_type": "code",
   "execution_count": null,
   "metadata": {},
   "outputs": [],
   "source": []
  }
 ],
 "metadata": {
  "kernelspec": {
   "display_name": "Python 3",
   "language": "python",
   "name": "python3"
  },
  "language_info": {
   "codemirror_mode": {
    "name": "ipython",
    "version": 3
   },
   "file_extension": ".py",
   "mimetype": "text/x-python",
   "name": "python",
   "nbconvert_exporter": "python",
   "pygments_lexer": "ipython3",
   "version": "3.8.3"
  }
 },
 "nbformat": 4,
 "nbformat_minor": 4
}
